{
 "cells": [
  {
   "cell_type": "markdown",
   "metadata": {},
   "source": [
    "# Downloading and exploring the data"
   ]
  },
  {
   "cell_type": "markdown",
   "metadata": {},
   "source": [
    "There 37 category pet dataset with roughly 200 images for each class. The images have a large variations in scale, pose and lighting. All images have an associated ground truth annotation of breed, head ROI, and pixel level trimap segmentation."
   ]
  },
  {
   "cell_type": "markdown",
   "metadata": {},
   "source": [
    "images - https://www.robots.ox.ac.uk/~vgg/data/pets/data/images.tar.gz"
   ]
  },
  {
   "cell_type": "markdown",
   "metadata": {},
   "source": [
    "# Downloading and extracting data\n",
    "Wget \n",
    "tar "
   ]
  },
  {
   "cell_type": "markdown",
   "metadata": {},
   "source": [
    "# Collecting all images"
   ]
  },
  {
   "cell_type": "code",
   "execution_count": 2,
   "metadata": {},
   "outputs": [
    {
     "name": "stdout",
     "output_type": "stream",
     "text": [
      "7390\n"
     ]
    }
   ],
   "source": [
    "from glob import glob\n",
    "from PIL import Image\n",
    "import os \n",
    "from pathlib import Path\n",
    "\n",
    "images = glob('../input/images/*.jpg')\n",
    "print(len(images))"
   ]
  },
  {
   "cell_type": "code",
   "execution_count": 6,
   "metadata": {},
   "outputs": [
    {
     "data": {
      "text/plain": [
       "[PosixPath('../input/images/miniature_pinscher_171.jpg'),\n",
       " PosixPath('../input/images/Birman_95.jpg'),\n",
       " PosixPath('../input/images/great_pyrenees_10.jpg'),\n",
       " PosixPath('../input/images/basset_hound_67.jpg'),\n",
       " PosixPath('../input/images/beagle_153.jpg')]"
      ]
     },
     "execution_count": 6,
     "metadata": {},
     "output_type": "execute_result"
    }
   ],
   "source": [
    "p = Path('.')\n",
    "images = list(p.glob('../input/images/*.jpg'))\n",
    "images[:5]"
   ]
  },
  {
   "cell_type": "code",
   "execution_count": 7,
   "metadata": {},
   "outputs": [
    {
     "data": {
      "text/plain": [
       "(5912, 739, 739)"
      ]
     },
     "execution_count": 7,
     "metadata": {},
     "output_type": "execute_result"
    }
   ],
   "source": [
    "# Dividing the images into train and valid and test set\n",
    "\n",
    "train_images = images[:int(7390*0.8)]\n",
    "valid_images = images[int(7390*0.8):int(7390*0.9)]\n",
    "test_images = images[int(7390*0.9):]\n",
    "\n",
    "len(train_images), len(valid_images), len(test_images)"
   ]
  },
  {
   "cell_type": "markdown",
   "metadata": {},
   "source": [
    "# images and labels"
   ]
  },
  {
   "cell_type": "code",
   "execution_count": 8,
   "metadata": {},
   "outputs": [
    {
     "data": {
      "text/plain": [
       "PosixPath('../input/images/miniature_pinscher_171.jpg')"
      ]
     },
     "execution_count": 8,
     "metadata": {},
     "output_type": "execute_result"
    }
   ],
   "source": [
    "img = train_images[0]\n",
    "img"
   ]
  },
  {
   "cell_type": "code",
   "execution_count": 9,
   "metadata": {},
   "outputs": [
    {
     "data": {
      "text/plain": [
       "'miniature_pinscher'"
      ]
     },
     "execution_count": 9,
     "metadata": {},
     "output_type": "execute_result"
    }
   ],
   "source": [
    "import re\n",
    "m = re.search(r'(.+)_\\d+.jpg$', img.name)\n",
    "m.group(1)"
   ]
  },
  {
   "cell_type": "code",
   "execution_count": 27,
   "metadata": {},
   "outputs": [
    {
     "name": "stdout",
     "output_type": "stream",
     "text": [
      "37\n"
     ]
    }
   ],
   "source": [
    "# Total Unique Classes\n",
    "\n",
    "unique_class = set()\n",
    "\n",
    "for img in images:\n",
    "    m = re.search(r'(.+)_\\d+.jpg$', img.name)\n",
    "    unique_class.add(m.group(1))\n",
    "\n",
    "print(len(unique_class))"
   ]
  },
  {
   "cell_type": "code",
   "execution_count": 28,
   "metadata": {},
   "outputs": [
    {
     "data": {
      "text/plain": [
       "{0: 'havanese',\n",
       " 1: 'wheaten_terrier',\n",
       " 2: 'newfoundland',\n",
       " 3: 'chihuahua',\n",
       " 4: 'english_cocker_spaniel',\n",
       " 5: 'basset_hound',\n",
       " 6: 'Maine_Coon',\n",
       " 7: 'great_pyrenees',\n",
       " 8: 'Siamese',\n",
       " 9: 'Sphynx',\n",
       " 10: 'scottish_terrier',\n",
       " 11: 'saint_bernard',\n",
       " 12: 'Ragdoll',\n",
       " 13: 'Abyssinian',\n",
       " 14: 'Egyptian_Mau',\n",
       " 15: 'beagle',\n",
       " 16: 'english_setter',\n",
       " 17: 'miniature_pinscher',\n",
       " 18: 'staffordshire_bull_terrier',\n",
       " 19: 'keeshond',\n",
       " 20: 'Russian_Blue',\n",
       " 21: 'pug',\n",
       " 22: 'yorkshire_terrier',\n",
       " 23: 'British_Shorthair',\n",
       " 24: 'japanese_chin',\n",
       " 25: 'Bengal',\n",
       " 26: 'Bombay',\n",
       " 27: 'samoyed',\n",
       " 28: 'shiba_inu',\n",
       " 29: 'Birman',\n",
       " 30: 'boxer',\n",
       " 31: 'Persian',\n",
       " 32: 'pomeranian',\n",
       " 33: 'leonberger',\n",
       " 34: 'german_shorthaired',\n",
       " 35: 'american_bulldog',\n",
       " 36: 'american_pit_bull_terrier'}"
      ]
     },
     "execution_count": 28,
     "metadata": {},
     "output_type": "execute_result"
    }
   ],
   "source": [
    "# label to class\n",
    "\n",
    "lbl2class = {id: name for id, name in enumerate(unique_class)}\n",
    "lbl2class\n",
    "\n"
   ]
  },
  {
   "cell_type": "code",
   "execution_count": 29,
   "metadata": {},
   "outputs": [
    {
     "data": {
      "text/plain": [
       "718"
      ]
     },
     "execution_count": 29,
     "metadata": {},
     "output_type": "execute_result"
    }
   ],
   "source": [
    "id2class = open(\"id2class.txt\", 'wt')\n",
    "data = str(lbl2class)\n",
    "id2class.write(data)"
   ]
  },
  {
   "cell_type": "code",
   "execution_count": 34,
   "metadata": {},
   "outputs": [
    {
     "data": {
      "text/plain": [
       "{'havanese': 0,\n",
       " 'wheaten_terrier': 1,\n",
       " 'newfoundland': 2,\n",
       " 'chihuahua': 3,\n",
       " 'english_cocker_spaniel': 4,\n",
       " 'basset_hound': 5,\n",
       " 'Maine_Coon': 6,\n",
       " 'great_pyrenees': 7,\n",
       " 'Siamese': 8,\n",
       " 'Sphynx': 9,\n",
       " 'scottish_terrier': 10,\n",
       " 'saint_bernard': 11,\n",
       " 'Ragdoll': 12,\n",
       " 'Abyssinian': 13,\n",
       " 'Egyptian_Mau': 14,\n",
       " 'beagle': 15,\n",
       " 'english_setter': 16,\n",
       " 'miniature_pinscher': 17,\n",
       " 'staffordshire_bull_terrier': 18,\n",
       " 'keeshond': 19,\n",
       " 'Russian_Blue': 20,\n",
       " 'pug': 21,\n",
       " 'yorkshire_terrier': 22,\n",
       " 'British_Shorthair': 23,\n",
       " 'japanese_chin': 24,\n",
       " 'Bengal': 25,\n",
       " 'Bombay': 26,\n",
       " 'samoyed': 27,\n",
       " 'shiba_inu': 28,\n",
       " 'Birman': 29,\n",
       " 'boxer': 30,\n",
       " 'Persian': 31,\n",
       " 'pomeranian': 32,\n",
       " 'leonberger': 33,\n",
       " 'german_shorthaired': 34,\n",
       " 'american_bulldog': 35,\n",
       " 'american_pit_bull_terrier': 36}"
      ]
     },
     "execution_count": 34,
     "metadata": {},
     "output_type": "execute_result"
    }
   ],
   "source": [
    "# class2label\n",
    "\n",
    "class2label = {name: id for id, name in lbl2class.items()}\n",
    "class2label"
   ]
  },
  {
   "cell_type": "code",
   "execution_count": 35,
   "metadata": {},
   "outputs": [
    {
     "data": {
      "text/plain": [
       "718"
      ]
     },
     "execution_count": 35,
     "metadata": {},
     "output_type": "execute_result"
    }
   ],
   "source": [
    "class2id = open(\"class2id.txt\", 'wt')\n",
    "data = str(class2label)\n",
    "class2id.write(data)"
   ]
  },
  {
   "cell_type": "code",
   "execution_count": null,
   "metadata": {},
   "outputs": [],
   "source": []
  }
 ],
 "metadata": {
  "kernelspec": {
   "display_name": "Python 3.10.4 64-bit",
   "language": "python",
   "name": "python3"
  },
  "language_info": {
   "codemirror_mode": {
    "name": "ipython",
    "version": 3
   },
   "file_extension": ".py",
   "mimetype": "text/x-python",
   "name": "python",
   "nbconvert_exporter": "python",
   "pygments_lexer": "ipython3",
   "version": "3.10.4"
  },
  "orig_nbformat": 4,
  "vscode": {
   "interpreter": {
    "hash": "4f946df053fbf2b937619d3c5458e7af74262f9a954d8797ba0b27400bcafe06"
   }
  }
 },
 "nbformat": 4,
 "nbformat_minor": 2
}
