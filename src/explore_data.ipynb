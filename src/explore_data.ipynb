{
 "cells": [
  {
   "cell_type": "markdown",
   "metadata": {},
   "source": [
    "# Downloading and exploring the data"
   ]
  },
  {
   "cell_type": "markdown",
   "metadata": {},
   "source": [
    "There 37 category pet dataset with roughly 200 images for each class. The images have a large variations in scale, pose and lighting. All images have an associated ground truth annotation of breed, head ROI, and pixel level trimap segmentation."
   ]
  },
  {
   "cell_type": "markdown",
   "metadata": {},
   "source": [
    "images - https://www.robots.ox.ac.uk/~vgg/data/pets/data/images.tar.gz"
   ]
  },
  {
   "cell_type": "markdown",
   "metadata": {},
   "source": [
    "# Downloading and extracting data\n",
    "Wget \n",
    "tar "
   ]
  },
  {
   "cell_type": "markdown",
   "metadata": {},
   "source": [
    "# Collecting all images"
   ]
  },
  {
   "cell_type": "code",
   "execution_count": 16,
   "metadata": {},
   "outputs": [
    {
     "name": "stdout",
     "output_type": "stream",
     "text": [
      "7390\n"
     ]
    }
   ],
   "source": [
    "from glob import glob\n",
    "from PIL import Image\n",
    "import os \n",
    "from pathlib import Path\n",
    "\n",
    "images = glob('../input/images/*.jpg')\n",
    "print(len(images))"
   ]
  },
  {
   "cell_type": "code",
   "execution_count": 19,
   "metadata": {},
   "outputs": [
    {
     "data": {
      "text/plain": [
       "[PosixPath('../input/images/miniature_pinscher_171.jpg'),\n",
       " PosixPath('../input/images/Birman_95.jpg'),\n",
       " PosixPath('../input/images/great_pyrenees_10.jpg'),\n",
       " PosixPath('../input/images/basset_hound_67.jpg'),\n",
       " PosixPath('../input/images/beagle_153.jpg')]"
      ]
     },
     "execution_count": 19,
     "metadata": {},
     "output_type": "execute_result"
    }
   ],
   "source": [
    "p = Path('.')\n",
    "images = list(p.glob('../input/images/*.jpg'))\n",
    "img[:5]"
   ]
  },
  {
   "cell_type": "code",
   "execution_count": 20,
   "metadata": {},
   "outputs": [
    {
     "data": {
      "text/plain": [
       "(5912, 739, 739)"
      ]
     },
     "execution_count": 20,
     "metadata": {},
     "output_type": "execute_result"
    }
   ],
   "source": [
    "# Dividing the images into train and valid and test set\n",
    "\n",
    "train_images = images[:int(7390*0.8)]\n",
    "valid_images = images[int(7390*0.8):int(7390*0.9)]\n",
    "test_images = images[int(7390*0.9):]\n",
    "\n",
    "len(train_images), len(valid_images), len(test_images)"
   ]
  },
  {
   "cell_type": "markdown",
   "metadata": {},
   "source": [
    "# images and labels"
   ]
  },
  {
   "cell_type": "code",
   "execution_count": 21,
   "metadata": {},
   "outputs": [
    {
     "data": {
      "text/plain": [
       "PosixPath('../input/images/miniature_pinscher_171.jpg')"
      ]
     },
     "execution_count": 21,
     "metadata": {},
     "output_type": "execute_result"
    }
   ],
   "source": [
    "img = train_images[0]\n",
    "img"
   ]
  },
  {
   "cell_type": "code",
   "execution_count": 24,
   "metadata": {},
   "outputs": [
    {
     "data": {
      "text/plain": [
       "'miniature_pinscher'"
      ]
     },
     "execution_count": 24,
     "metadata": {},
     "output_type": "execute_result"
    }
   ],
   "source": [
    "import re\n",
    "m = re.search(r'(.+)_\\d+.jpg$', img.name)\n",
    "m.group(1)"
   ]
  },
  {
   "cell_type": "code",
   "execution_count": 26,
   "metadata": {},
   "outputs": [
    {
     "name": "stdout",
     "output_type": "stream",
     "text": [
      "37\n"
     ]
    }
   ],
   "source": [
    "# Total Unique Classes\n",
    "\n",
    "unique_class = set()\n",
    "\n",
    "for img in train_images:\n",
    "    m = re.search(r'(.+)_\\d+.jpg$', img.name)\n",
    "    unique_class.add(m.group(1))\n",
    "\n",
    "print(len(unique_class))"
   ]
  },
  {
   "cell_type": "code",
   "execution_count": 28,
   "metadata": {},
   "outputs": [
    {
     "data": {
      "text/plain": [
       "{0: 'scottish_terrier',\n",
       " 1: 'chihuahua',\n",
       " 2: 'english_cocker_spaniel',\n",
       " 3: 'Persian',\n",
       " 4: 'basset_hound',\n",
       " 5: 'american_pit_bull_terrier',\n",
       " 6: 'staffordshire_bull_terrier',\n",
       " 7: 'newfoundland',\n",
       " 8: 'saint_bernard',\n",
       " 9: 'beagle',\n",
       " 10: 'wheaten_terrier',\n",
       " 11: 'great_pyrenees',\n",
       " 12: 'havanese',\n",
       " 13: 'British_Shorthair',\n",
       " 14: 'boxer',\n",
       " 15: 'Sphynx',\n",
       " 16: 'miniature_pinscher',\n",
       " 17: 'Abyssinian',\n",
       " 18: 'pug',\n",
       " 19: 'yorkshire_terrier',\n",
       " 20: 'leonberger',\n",
       " 21: 'japanese_chin',\n",
       " 22: 'keeshond',\n",
       " 23: 'Bombay',\n",
       " 24: 'Siamese',\n",
       " 25: 'Egyptian_Mau',\n",
       " 26: 'samoyed',\n",
       " 27: 'american_bulldog',\n",
       " 28: 'german_shorthaired',\n",
       " 29: 'Ragdoll',\n",
       " 30: 'pomeranian',\n",
       " 31: 'shiba_inu',\n",
       " 32: 'Maine_Coon',\n",
       " 33: 'Russian_Blue',\n",
       " 34: 'Bengal',\n",
       " 35: 'Birman',\n",
       " 36: 'english_setter'}"
      ]
     },
     "execution_count": 28,
     "metadata": {},
     "output_type": "execute_result"
    }
   ],
   "source": [
    "# label to class\n",
    "\n",
    "lbl2class = {id: name for id, name in enumerate(unique_class)}\n",
    "lbl2class\n",
    "\n"
   ]
  },
  {
   "cell_type": "code",
   "execution_count": 29,
   "metadata": {},
   "outputs": [
    {
     "data": {
      "text/plain": [
       "{'scottish_terrier': 0,\n",
       " 'chihuahua': 1,\n",
       " 'english_cocker_spaniel': 2,\n",
       " 'Persian': 3,\n",
       " 'basset_hound': 4,\n",
       " 'american_pit_bull_terrier': 5,\n",
       " 'staffordshire_bull_terrier': 6,\n",
       " 'newfoundland': 7,\n",
       " 'saint_bernard': 8,\n",
       " 'beagle': 9,\n",
       " 'wheaten_terrier': 10,\n",
       " 'great_pyrenees': 11,\n",
       " 'havanese': 12,\n",
       " 'British_Shorthair': 13,\n",
       " 'boxer': 14,\n",
       " 'Sphynx': 15,\n",
       " 'miniature_pinscher': 16,\n",
       " 'Abyssinian': 17,\n",
       " 'pug': 18,\n",
       " 'yorkshire_terrier': 19,\n",
       " 'leonberger': 20,\n",
       " 'japanese_chin': 21,\n",
       " 'keeshond': 22,\n",
       " 'Bombay': 23,\n",
       " 'Siamese': 24,\n",
       " 'Egyptian_Mau': 25,\n",
       " 'samoyed': 26,\n",
       " 'american_bulldog': 27,\n",
       " 'german_shorthaired': 28,\n",
       " 'Ragdoll': 29,\n",
       " 'pomeranian': 30,\n",
       " 'shiba_inu': 31,\n",
       " 'Maine_Coon': 32,\n",
       " 'Russian_Blue': 33,\n",
       " 'Bengal': 34,\n",
       " 'Birman': 35,\n",
       " 'english_setter': 36}"
      ]
     },
     "execution_count": 29,
     "metadata": {},
     "output_type": "execute_result"
    }
   ],
   "source": [
    "# class2label\n",
    "\n",
    "class2label = {name: id for id, name in lbl2class.items()}\n",
    "class2label"
   ]
  },
  {
   "cell_type": "code",
   "execution_count": null,
   "metadata": {},
   "outputs": [],
   "source": []
  }
 ],
 "metadata": {
  "kernelspec": {
   "display_name": "Python 3.10.4 64-bit",
   "language": "python",
   "name": "python3"
  },
  "language_info": {
   "codemirror_mode": {
    "name": "ipython",
    "version": 3
   },
   "file_extension": ".py",
   "mimetype": "text/x-python",
   "name": "python",
   "nbconvert_exporter": "python",
   "pygments_lexer": "ipython3",
   "version": "3.10.4"
  },
  "orig_nbformat": 4,
  "vscode": {
   "interpreter": {
    "hash": "4f946df053fbf2b937619d3c5458e7af74262f9a954d8797ba0b27400bcafe06"
   }
  }
 },
 "nbformat": 4,
 "nbformat_minor": 2
}
